{
 "cells": [
  {
   "cell_type": "code",
   "execution_count": 4,
   "id": "9be0e889",
   "metadata": {},
   "outputs": [
    {
     "name": "stdout",
     "output_type": "stream",
     "text": [
      "7 0 7\n",
      "7 7 3\n",
      "8 7 1\n",
      "15 8 8\n",
      "15 15 5\n",
      "24 15 9\n"
     ]
    },
    {
     "data": {
      "text/plain": [
       "24"
      ]
     },
     "execution_count": 4,
     "metadata": {},
     "output_type": "execute_result"
    }
   ],
   "source": [
    "nums = [7, 3, 1, 8, 5, 9]\n",
    "t1 = 0\n",
    "t2 = 0 \n",
    "for current in nums:\n",
    "    temp = t1\n",
    "    t1 = max(current + t2, t1)\n",
    "    t2 = temp\n",
    "    print(t1, t2, current)\n",
    "t1"
   ]
  },
  {
   "cell_type": "code",
   "execution_count": null,
   "id": "712ed562",
   "metadata": {},
   "outputs": [],
   "source": []
  }
 ],
 "metadata": {
  "kernelspec": {
   "display_name": "Python 3 (ipykernel)",
   "language": "python",
   "name": "python3"
  },
  "language_info": {
   "codemirror_mode": {
    "name": "ipython",
    "version": 3
   },
   "file_extension": ".py",
   "mimetype": "text/x-python",
   "name": "python",
   "nbconvert_exporter": "python",
   "pygments_lexer": "ipython3",
   "version": "3.9.6"
  }
 },
 "nbformat": 4,
 "nbformat_minor": 5
}

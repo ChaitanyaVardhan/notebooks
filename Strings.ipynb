{
 "cells": [
  {
   "cell_type": "code",
   "execution_count": 1,
   "id": "3330bd42",
   "metadata": {},
   "outputs": [],
   "source": [
    "# Counting the characters in a string"
   ]
  },
  {
   "cell_type": "code",
   "execution_count": 4,
   "id": "9add8aa0",
   "metadata": {},
   "outputs": [
    {
     "data": {
      "text/plain": [
       "{'a': 5, 'b': 2, 'r': 2, 'c': 1, 'd': 1}"
      ]
     },
     "execution_count": 4,
     "metadata": {},
     "output_type": "execute_result"
    }
   ],
   "source": [
    "s = 'abracadabra'\n",
    "character_counts = {}\n",
    "for i in range(len(s)):\n",
    "    character_counts[s[i]] = character_counts.get(s[i], 0) + 1\n",
    "    \n",
    "character_counts"
   ]
  },
  {
   "cell_type": "code",
   "execution_count": null,
   "id": "7c228644",
   "metadata": {},
   "outputs": [],
   "source": []
  }
 ],
 "metadata": {
  "kernelspec": {
   "display_name": "Python 3 (ipykernel)",
   "language": "python",
   "name": "python3"
  },
  "language_info": {
   "codemirror_mode": {
    "name": "ipython",
    "version": 3
   },
   "file_extension": ".py",
   "mimetype": "text/x-python",
   "name": "python",
   "nbconvert_exporter": "python",
   "pygments_lexer": "ipython3",
   "version": "3.9.6"
  }
 },
 "nbformat": 4,
 "nbformat_minor": 5
}

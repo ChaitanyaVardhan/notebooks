{
 "cells": [
  {
   "cell_type": "code",
   "execution_count": 4,
   "id": "0d714189",
   "metadata": {},
   "outputs": [],
   "source": [
    "# travel a 2D grid diagonally from the center diagonal to the outer diagonals"
   ]
  },
  {
   "cell_type": "code",
   "execution_count": 3,
   "id": "f2fb6d25",
   "metadata": {},
   "outputs": [
    {
     "name": "stdout",
     "output_type": "stream",
     "text": [
      "0 0\n",
      "1 1\n",
      "2 2\n",
      "3 3\n",
      "4 4\n",
      "0 1\n",
      "1 2\n",
      "2 3\n",
      "3 4\n",
      "0 2\n",
      "1 3\n",
      "2 4\n",
      "0 3\n",
      "1 4\n",
      "0 4\n"
     ]
    }
   ],
   "source": [
    "n = 5\n",
    "for diff in range(n):\n",
    "    for i in range(n - diff):\n",
    "        j = i + diff\n",
    "        print(i, j)"
   ]
  },
  {
   "cell_type": "code",
   "execution_count": 5,
   "id": "1e8b6865",
   "metadata": {},
   "outputs": [],
   "source": [
    "# travel a 2D grid diagonally from the 2nd diagonal from center outwards"
   ]
  },
  {
   "cell_type": "code",
   "execution_count": 10,
   "id": "4159e40a",
   "metadata": {},
   "outputs": [
    {
     "name": "stdout",
     "output_type": "stream",
     "text": [
      "0 2\n",
      "1 3\n",
      "2 4\n",
      "0 3\n",
      "1 4\n",
      "0 4\n"
     ]
    }
   ],
   "source": [
    "n = 5\n",
    "for diff in range(2, n):\n",
    "    for i in range(n - diff):\n",
    "        j = i + diff\n",
    "        print(i, j)"
   ]
  },
  {
   "cell_type": "code",
   "execution_count": 7,
   "id": "383d67b2",
   "metadata": {},
   "outputs": [],
   "source": [
    "# travel a 2D grid diagonally from the center diagonal inwards"
   ]
  },
  {
   "cell_type": "code",
   "execution_count": 12,
   "id": "c672826d",
   "metadata": {},
   "outputs": [
    {
     "name": "stdout",
     "output_type": "stream",
     "text": [
      "0 0\n",
      "1 1\n",
      "2 2\n",
      "3 3\n",
      "4 4\n",
      "1 0\n",
      "2 1\n",
      "3 2\n",
      "4 3\n",
      "2 0\n",
      "3 1\n",
      "4 2\n",
      "3 0\n",
      "4 1\n",
      "4 0\n"
     ]
    }
   ],
   "source": [
    "n = 5\n",
    "for diff in range(n):\n",
    "    for j in range(n - diff):\n",
    "        i = j + diff\n",
    "        print(i, j)"
   ]
  },
  {
   "cell_type": "code",
   "execution_count": null,
   "id": "e1e2ad82",
   "metadata": {},
   "outputs": [],
   "source": []
  }
 ],
 "metadata": {
  "kernelspec": {
   "display_name": "Python 3 (ipykernel)",
   "language": "python",
   "name": "python3"
  },
  "language_info": {
   "codemirror_mode": {
    "name": "ipython",
    "version": 3
   },
   "file_extension": ".py",
   "mimetype": "text/x-python",
   "name": "python",
   "nbconvert_exporter": "python",
   "pygments_lexer": "ipython3",
   "version": "3.9.6"
  }
 },
 "nbformat": 4,
 "nbformat_minor": 5
}

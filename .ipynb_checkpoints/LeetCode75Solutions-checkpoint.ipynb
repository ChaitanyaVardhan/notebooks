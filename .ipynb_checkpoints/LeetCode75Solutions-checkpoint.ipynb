{
 "cells": [
  {
   "cell_type": "code",
   "execution_count": 17,
   "id": "08c74235",
   "metadata": {},
   "outputs": [],
   "source": [
    "from collections import defaultdict\n",
    "class Solution1:\n",
    "    def groupAnagrams(self, strs):\n",
    "        ans = defaultdict(list)\n",
    "        for s in strs:\n",
    "            ans[tuple(sorted(s))].append(s)\n",
    "        \n",
    "        return ans\n",
    "        "
   ]
  },
  {
   "cell_type": "code",
   "execution_count": 18,
   "id": "5d7b2061",
   "metadata": {},
   "outputs": [
    {
     "data": {
      "text/plain": [
       "defaultdict(list,\n",
       "            {('a', 'e', 't'): ['eat', 'tea', 'ate'],\n",
       "             ('a', 'n', 't'): ['tan', 'nat'],\n",
       "             ('a', 'b', 't'): ['bat']})"
      ]
     },
     "execution_count": 18,
     "metadata": {},
     "output_type": "execute_result"
    }
   ],
   "source": [
    "strs = [\"eat\",\"tea\",\"tan\",\"ate\",\"nat\",\"bat\"]\n",
    "Solution1().groupAnagrams(strs)"
   ]
  },
  {
   "cell_type": "code",
   "execution_count": 12,
   "id": "613be194",
   "metadata": {},
   "outputs": [
    {
     "name": "stdout",
     "output_type": "stream",
     "text": [
      "<class 'collections.defaultdict'>\n"
     ]
    }
   ],
   "source": [
    "from collections import defaultdict\n",
    "print(defaultdict)"
   ]
  },
  {
   "cell_type": "code",
   "execution_count": 24,
   "id": "c601fb5e",
   "metadata": {},
   "outputs": [],
   "source": [
    "from typing import List\n",
    "class Solution2:\n",
    "    def longestIncreasingSubsequence(self, arr: List[int]):\n",
    "        n = len(arr)\n",
    "        dp = [1] * n\n",
    "        for i in range(1, n):\n",
    "            for j in range(i):\n",
    "                if arr[j] < arr[i]:\n",
    "                    dp[i] = max(dp[i], dp[j] + 1)\n",
    "                    \n",
    "        return max(dp)\n",
    "        "
   ]
  },
  {
   "cell_type": "code",
   "execution_count": 25,
   "id": "99d9c602",
   "metadata": {},
   "outputs": [
    {
     "data": {
      "text/plain": [
       "4"
      ]
     },
     "execution_count": 25,
     "metadata": {},
     "output_type": "execute_result"
    }
   ],
   "source": [
    "Solution2().longestIncreasingSubsequence([10,9,2,5,3,7,101,18])"
   ]
  },
  {
   "cell_type": "code",
   "execution_count": 26,
   "id": "6a6f35c7",
   "metadata": {},
   "outputs": [],
   "source": [
    "class Solution3:\n",
    "    def threeSum(self, nums: List[int]) -> List[List[int]]:\n",
    "        res = []\n",
    "        nums.sort()\n",
    "        for i in range(len(nums)):\n",
    "            if nums[i] > 0:\n",
    "                break\n",
    "            if i == 0 or nums[i - 1] != nums[i]:\n",
    "                self.twoSum(nums, i, res)\n",
    "        \n",
    "        return res\n",
    "    \n",
    "    def twoSum(self, nums: List[int], i: int, res: List[List[int]]):\n",
    "        lo, hi = i + 1, len(nums) - 1\n",
    "        while lo < hi:\n",
    "            sum = nums[i] + nums[lo] + nums[hi]\n",
    "            if sum < 0:\n",
    "                lo += 1\n",
    "            elif sum > 0:\n",
    "                hi -= 1\n",
    "            else:\n",
    "                res.append([nums[i], nums[lo], nums[hi]])\n",
    "                lo += 1\n",
    "                hi -= 1\n",
    "                while lo < hi and nums[lo] == nums[lo - 1]:\n",
    "                    lo += 1\n",
    "        "
   ]
  },
  {
   "cell_type": "code",
   "execution_count": 27,
   "id": "d5474ca4",
   "metadata": {},
   "outputs": [
    {
     "data": {
      "text/plain": [
       "[[-1, -1, 2], [-1, 0, 1]]"
      ]
     },
     "execution_count": 27,
     "metadata": {},
     "output_type": "execute_result"
    }
   ],
   "source": [
    "Solution3().threeSum([-1,0,1,2,-1,-4])"
   ]
  },
  {
   "cell_type": "code",
   "execution_count": 6,
   "id": "6fceb92b",
   "metadata": {},
   "outputs": [],
   "source": [
    "from typing import List\n",
    "import math\n",
    "class Solution4:\n",
    "    def maxSubArray(self, nums: List[int])-> int:\n",
    "        n = len(nums)\n",
    "        maxSubArray = -math.inf\n",
    "        for i in range(n):\n",
    "            currentSubArray = 0\n",
    "            for j in range(i, n):\n",
    "                currentSubArray += nums[j]\n",
    "                maxSubArray = max(maxSubArray, currentSubArray)\n",
    "        return maxSubArray"
   ]
  },
  {
   "cell_type": "code",
   "execution_count": 7,
   "id": "eac17478",
   "metadata": {},
   "outputs": [
    {
     "data": {
      "text/plain": [
       "6"
      ]
     },
     "execution_count": 7,
     "metadata": {},
     "output_type": "execute_result"
    }
   ],
   "source": [
    "Solution4().maxSubArray([-2,1,-3,4,-1,2,1,-5,4])"
   ]
  },
  {
   "cell_type": "code",
   "execution_count": 8,
   "id": "2cc5cf88",
   "metadata": {},
   "outputs": [],
   "source": [
    "# This is TLE as time O(n^2), Space is O(1)"
   ]
  },
  {
   "cell_type": "code",
   "execution_count": 9,
   "id": "e17f2ad5",
   "metadata": {},
   "outputs": [],
   "source": [
    "class Solution5:\n",
    "    def maxSubArray(self, nums: List[int]) -> int:\n",
    "        n = len(nums)\n",
    "        max_sub_array = current_sub_array = nums[0]\n",
    "        for num in nums[1:]:\n",
    "            current_sub_array += num\n",
    "            max_sub_array = max(num, current_sub_array)\n",
    "        return max_sub_array"
   ]
  },
  {
   "cell_type": "code",
   "execution_count": 10,
   "id": "66b32f16",
   "metadata": {},
   "outputs": [
    {
     "data": {
      "text/plain": [
       "4"
      ]
     },
     "execution_count": 10,
     "metadata": {},
     "output_type": "execute_result"
    }
   ],
   "source": [
    "Solution5().maxSubArray([-2,1,-3,4,-1,2,1,-5,4])"
   ]
  },
  {
   "cell_type": "code",
   "execution_count": 11,
   "id": "99245456",
   "metadata": {},
   "outputs": [],
   "source": [
    "# Time: O(n) and Space O(1)\n",
    "    "
   ]
  },
  {
   "cell_type": "code",
   "execution_count": 16,
   "id": "b201df42",
   "metadata": {},
   "outputs": [],
   "source": [
    "class Solution6:\n",
    "    def longestPalindrome(self, s: str) -> str:\n",
    "        n = len(s)\n",
    "        dp = [[False] * n for _ in range(n)]\n",
    "        ans = [0, 0]\n",
    "\n",
    "        for i in range(n):\n",
    "            dp[i][i] = True\n",
    "        \n",
    "        for i in range(n - 1):\n",
    "            if s[i + 1] == s[i]:\n",
    "                dp[i][i + 1] = True\n",
    "                ans = [i, i + 1]\n",
    "        \n",
    "        for diff in range(2, n):\n",
    "            for i in range(n - diff):\n",
    "                j = i + diff\n",
    "                if s[i] == s[j] and dp[i + 1][j - 1]:\n",
    "                    dp[i][j] = True\n",
    "                    ans = [i, j]\n",
    "        \n",
    "        i, j = ans\n",
    "        return s[i: j + 1]\n"
   ]
  },
  {
   "cell_type": "code",
   "execution_count": 17,
   "id": "151507ee",
   "metadata": {},
   "outputs": [
    {
     "data": {
      "text/plain": [
       "'racecar'"
      ]
     },
     "execution_count": 17,
     "metadata": {},
     "output_type": "execute_result"
    }
   ],
   "source": [
    "Solution6().longestPalindrome('racecar')"
   ]
  },
  {
   "cell_type": "code",
   "execution_count": 18,
   "id": "8f2232af",
   "metadata": {},
   "outputs": [],
   "source": [
    "# Time O(n^2) Space O(n^2)"
   ]
  },
  {
   "cell_type": "code",
   "execution_count": null,
   "id": "55630ac3",
   "metadata": {},
   "outputs": [],
   "source": []
  }
 ],
 "metadata": {
  "kernelspec": {
   "display_name": "Python 3 (ipykernel)",
   "language": "python",
   "name": "python3"
  },
  "language_info": {
   "codemirror_mode": {
    "name": "ipython",
    "version": 3
   },
   "file_extension": ".py",
   "mimetype": "text/x-python",
   "name": "python",
   "nbconvert_exporter": "python",
   "pygments_lexer": "ipython3",
   "version": "3.9.6"
  }
 },
 "nbformat": 4,
 "nbformat_minor": 5
}

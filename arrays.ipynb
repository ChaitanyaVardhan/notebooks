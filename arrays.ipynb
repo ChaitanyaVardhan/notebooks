{
 "cells": [
  {
   "cell_type": "code",
   "execution_count": 1,
   "id": "b1130845",
   "metadata": {},
   "outputs": [],
   "source": [
    "nums = [2, 3, -2, 4]"
   ]
  },
  {
   "cell_type": "code",
   "execution_count": 2,
   "id": "373a8e8c",
   "metadata": {},
   "outputs": [
    {
     "name": "stdout",
     "output_type": "stream",
     "text": [
      "0 0\n",
      "0 1\n",
      "0 2\n",
      "0 3\n",
      "1 1\n",
      "1 2\n",
      "1 3\n",
      "2 2\n",
      "2 3\n",
      "3 3\n"
     ]
    }
   ],
   "source": [
    "for i in range(len(nums)):\n",
    "    for j in range(i, len(nums)):\n",
    "        print(i, j)"
   ]
  },
  {
   "cell_type": "code",
   "execution_count": 3,
   "id": "40e7199c",
   "metadata": {},
   "outputs": [
    {
     "name": "stdout",
     "output_type": "stream",
     "text": [
      "2\n",
      "6\n",
      "-12\n",
      "-48\n",
      "3\n",
      "-6\n",
      "-24\n",
      "-2\n",
      "-8\n",
      "4\n"
     ]
    }
   ],
   "source": [
    "for i in range(len(nums)):\n",
    "    accu = 1\n",
    "    for j in range(i, len(nums)):\n",
    "        accu *= nums[j]\n",
    "        print(accu)"
   ]
  },
  {
   "cell_type": "code",
   "execution_count": 1,
   "id": "2cc0a020",
   "metadata": {},
   "outputs": [
    {
     "data": {
      "text/plain": [
       "[[False, False, False], [False, False, False], [False, False, False]]"
      ]
     },
     "execution_count": 1,
     "metadata": {},
     "output_type": "execute_result"
    }
   ],
   "source": [
    "[[False] * 3 for _ in range(3)]"
   ]
  },
  {
   "cell_type": "code",
   "execution_count": 2,
   "id": "329ab8d2",
   "metadata": {},
   "outputs": [],
   "source": [
    "dp = [[False] * 3 for _ in range(3)]"
   ]
  },
  {
   "cell_type": "code",
   "execution_count": 3,
   "id": "523e9b76",
   "metadata": {},
   "outputs": [
    {
     "data": {
      "text/plain": [
       "[[False, False, False], [False, False, False], [False, False, False]]"
      ]
     },
     "execution_count": 3,
     "metadata": {},
     "output_type": "execute_result"
    }
   ],
   "source": [
    "dp"
   ]
  },
  {
   "cell_type": "code",
   "execution_count": 4,
   "id": "ab78d9f8",
   "metadata": {},
   "outputs": [
    {
     "data": {
      "text/plain": [
       "False"
      ]
     },
     "execution_count": 4,
     "metadata": {},
     "output_type": "execute_result"
    }
   ],
   "source": [
    "dp[0][0]"
   ]
  },
  {
   "cell_type": "code",
   "execution_count": 5,
   "id": "ad458182",
   "metadata": {},
   "outputs": [
    {
     "data": {
      "text/plain": [
       "False"
      ]
     },
     "execution_count": 5,
     "metadata": {},
     "output_type": "execute_result"
    }
   ],
   "source": [
    "dp[2][2]"
   ]
  },
  {
   "cell_type": "code",
   "execution_count": 6,
   "id": "244786d6",
   "metadata": {},
   "outputs": [],
   "source": [
    "chars = [0] * 4"
   ]
  },
  {
   "cell_type": "code",
   "execution_count": 7,
   "id": "43d28e8a",
   "metadata": {},
   "outputs": [
    {
     "data": {
      "text/plain": [
       "[0, 0, 0, 0]"
      ]
     },
     "execution_count": 7,
     "metadata": {},
     "output_type": "execute_result"
    }
   ],
   "source": [
    "chars"
   ]
  },
  {
   "cell_type": "code",
   "execution_count": 2,
   "id": "2e2c7033",
   "metadata": {},
   "outputs": [],
   "source": [
    "nums = [3, 4, 5, 6]\n",
    "res = [1] * len(nums)\n",
    "prefix = 1\n",
    "for i in range(len(nums)):\n",
    "    res[i] = prefix\n",
    "    prefix *= nums[i]"
   ]
  },
  {
   "cell_type": "code",
   "execution_count": 3,
   "id": "312656cb",
   "metadata": {},
   "outputs": [
    {
     "data": {
      "text/plain": [
       "[1, 3, 12, 60]"
      ]
     },
     "execution_count": 3,
     "metadata": {},
     "output_type": "execute_result"
    }
   ],
   "source": [
    "res"
   ]
  },
  {
   "cell_type": "code",
   "execution_count": 7,
   "id": "d5c61db4",
   "metadata": {},
   "outputs": [],
   "source": [
    "nums = [-2,1,-3,4,-1,2,1,-5,4]\n",
    "current_subarray = max_subarray = nums[0]\n",
    "for num in nums[1:]:\n",
    "    current_subarray = max(current_subarray + num, num)\n",
    "    max_subarray = max(max_subarray, current_subarray)"
   ]
  },
  {
   "cell_type": "code",
   "execution_count": 8,
   "id": "a9e5d55f",
   "metadata": {},
   "outputs": [
    {
     "data": {
      "text/plain": [
       "5"
      ]
     },
     "execution_count": 8,
     "metadata": {},
     "output_type": "execute_result"
    }
   ],
   "source": [
    "current_subarray"
   ]
  },
  {
   "cell_type": "code",
   "execution_count": 9,
   "id": "42f0f28d",
   "metadata": {},
   "outputs": [
    {
     "data": {
      "text/plain": [
       "6"
      ]
     },
     "execution_count": 9,
     "metadata": {},
     "output_type": "execute_result"
    }
   ],
   "source": [
    "max_subarray"
   ]
  },
  {
   "cell_type": "code",
   "execution_count": null,
   "id": "dfcb6d36",
   "metadata": {},
   "outputs": [],
   "source": []
  }
 ],
 "metadata": {
  "kernelspec": {
   "display_name": "Python 3 (ipykernel)",
   "language": "python",
   "name": "python3"
  },
  "language_info": {
   "codemirror_mode": {
    "name": "ipython",
    "version": 3
   },
   "file_extension": ".py",
   "mimetype": "text/x-python",
   "name": "python",
   "nbconvert_exporter": "python",
   "pygments_lexer": "ipython3",
   "version": "3.9.6"
  }
 },
 "nbformat": 4,
 "nbformat_minor": 5
}
